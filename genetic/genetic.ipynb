{
  "nbformat": 4,
  "nbformat_minor": 0,
  "metadata": {
    "colab": {
      "provenance": []
    },
    "kernelspec": {
      "name": "python3",
      "display_name": "Python 3"
    },
    "language_info": {
      "name": "python"
    }
  },
  "cells": [
    {
      "cell_type": "code",
      "source": [
        "import math\n",
        "from random import randint\n",
        "\n",
        "def get_new_mutation(populations, populations_count):\n",
        "    new_populations = []\n",
        "    for i in range(len(populations)):\n",
        "        # возможность мутации определяю случайным образом\n",
        "        random = randint(0, 100)\n",
        "        if random < 50:\n",
        "            index = int(math.floor(random / 100 * populations_count))\n",
        "            populations[i][index] = randint(0, 100)\n",
        "        new_populations.append(populations[i])\n",
        "    return new_populations\n",
        "\n",
        "\n",
        "# 1/(итоговый результат - предполагаемый результат) все это делю на сумму обратных коэффициентов\n",
        "def get_reverse_coefficient(results):\n",
        "    results = [1 / abs(EXPECTED_RESULT - result) for result in results]\n",
        "    return [result / sum(results) for result in results]\n",
        "\n",
        "\n",
        "# подсчет результата популяции\n",
        "def calculate_populations_result(populations):\n",
        "    results = []\n",
        "    for x1, x2, x3, x4, x5 in populations:\n",
        "        results.append(3 * x1 - 2 * x2 + 5 * x3 + x4 - 5 * x5)\n",
        "    return results\n",
        "\n",
        "\n",
        "# подсчет уравнения по возможным параметрам\n",
        "def get_equation_result(populations):\n",
        "    for x1, x2, x3, x4, x5 in populations:\n",
        "        calculated = 3 * x1 - 2 * x2 + 5 * x3 + x4 - 5 * x5\n",
        "        if calculated == EXPECTED_RESULT:\n",
        "            return x1, x2, x3, x4, x5\n",
        "    return False\n",
        "\n",
        "\n",
        "# определение следующей популяции\n",
        "def next_population(populations, populations_count):\n",
        "    results = calculate_populations_result(populations)\n",
        "    # получаю коэффициент выживаемости\n",
        "    coefficient = get_reverse_coefficient(results)\n",
        "    fitness = sum(coefficient)\n",
        "    results = dict(zip(range(0, len(populations)), coefficient))\n",
        "    results = [k for k, i in sorted(results.items(), key=lambda item: item[1], reverse=True)]\n",
        "    new_populations = []\n",
        "    # скрещивание хромосом (беру пары 1-2, 3-4, 5-6 и тд)\n",
        "    for i in range(math.floor(len(populations) / 2)):\n",
        "        population_1 = populations[results[2 * i]]\n",
        "        population_2 = populations[results[2 * i + 1]]\n",
        "        crossover_position = randint(1, len(population_1) - 2)\n",
        "        # скрещиваю разные хромосомы родителей (вроде это называется кросс-овер)\n",
        "        new_population = (\n",
        "            population_1[:crossover_position] + population_2[crossover_position:],\n",
        "            population_2[:crossover_position] + population_1[crossover_position:]\n",
        "        )\n",
        "\n",
        "        new_populations.extend(new_population)\n",
        "    # если ответ равен финальному возвращаю популяцию\n",
        "    if get_equation_result(new_populations):\n",
        "        return new_populations\n",
        "    new_fitness = sum(get_reverse_coefficient(calculate_populations_result(new_populations)))\n",
        "    # если средняя приспособленность потомков меньше родителей прибегаю к новой мутации\n",
        "    if fitness > new_fitness:\n",
        "        populations = get_new_mutation(populations, populations_count)\n",
        "    else:\n",
        "        populations = new_populations\n",
        "    return populations\n",
        "\n",
        "\n",
        "if __name__ == '__main__':\n",
        "    EXPECTED_RESULT = 100\n",
        "    X_COUNT = 5\n",
        "\n",
        "    populations = []\n",
        "    populations_count = 10\n",
        "    for i in range(populations_count):\n",
        "        population_params = []\n",
        "        for j in range(X_COUNT):\n",
        "            population_params.append(randint(0, 100))\n",
        "        populations.append(population_params)\n",
        "\n",
        "    i = 1\n",
        "    while not get_equation_result(populations):\n",
        "        populations = next_population(populations, populations_count)\n",
        "        calculated_populations = calculate_populations_result(populations)\n",
        "        i += 1\n",
        "    x_values = get_equation_result(populations)\n",
        "    print(x_values)\n",
        "    print(\n",
        "        f'3*{x_values[0]}-2*{x_values[1]}+5*{x_values[2]}+{x_values[3]}-5*{x_values[4]}={EXPECTED_RESULT}')"
      ],
      "metadata": {
        "colab": {
          "base_uri": "https://localhost:8080/"
        },
        "id": "8oq_Lz1sBWu8",
        "outputId": "4cbd2554-7671-4cee-f043-551379bda8a4"
      },
      "execution_count": 18,
      "outputs": [
        {
          "output_type": "stream",
          "name": "stdout",
          "text": [
            "(28, 35, 75, 91, 76)\n",
            "3*28-2*35+5*75+91-5*76=100\n"
          ]
        }
      ]
    },
    {
      "cell_type": "code",
      "source": [],
      "metadata": {
        "id": "Fp00UfTOBnBQ"
      },
      "execution_count": null,
      "outputs": []
    }
  ]
}