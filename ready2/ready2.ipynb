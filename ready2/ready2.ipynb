{
 "cells": [
  {
   "cell_type": "code",
   "execution_count": 11,
   "metadata": {},
   "outputs": [
    {
     "name": "stderr",
     "output_type": "stream",
     "text": [
      "UsageError: %%script is a cell magic, but the cell body is empty.\n"
     ]
    }
   ],
   "source": [
    "%%script C:\\Users\\ilzira\\AppData\\Local\\Programs\\Python\\Python38\\python.exe"
   ]
  },
  {
   "cell_type": "code",
   "execution_count": null,
   "metadata": {
    "scrolled": true
   },
   "outputs": [
    {
     "name": "stdout",
     "output_type": "stream",
     "text": [
      "3.8.5 (default, Sep  3 2020, 21:29:08) [MSC v.1916 64 bit (AMD64)]\n"
     ]
    }
   ],
   "source": [
    "# %%script C:\\Users\\ilzira\\AppData\\Local\\Programs\\Python\\Python38\\python.exe\n",
    "import sys\n",
    "print(sys.version)\n",
    "from tkinter import *\n",
    "import tkinter as tk\n",
    "from PIL import ImageGrab, Image, ImageEnhance\n",
    "import pytesseract\n",
    "pytesseract.pytesseract.tesseract_cmd = r\"C:\\Program Files\\Tesseract-OCR\\tesseract.exe\"\n",
    "#.strip(\"‪u202a\")\n",
    "\n",
    "class App(tk.Tk):\n",
    "    def __init__(self):\n",
    "        tk.Tk.__init__(self)\n",
    "        self.x = 0\n",
    "        self.y = 0\n",
    "        \n",
    "        self.canvas = tk.Canvas(self, width = 300, height = 300, bg = \"white\", cursor = \"cross\")\n",
    "        self.label = tk.Label(self, text = \"Enter your number\", font = (\"Arial\", 14))\n",
    "        self.btn_recognise = tk.Button(self, text = \"Recognize\", command = self.recognize)\n",
    "        clear_fn = lambda: self.canvas.delete(\"all\")\n",
    "        self.btn_clear = tk.Button(self, text = \"Clear\", command = clear_fn)\n",
    "        \n",
    "        self.canvas.bind(\"<B1-Motion>\", func = self.on_click_draw)\n",
    "        self.canvas.grid(row = 0, column = 0, pady = 2, sticky = W)\n",
    "        self.label.grid(row = 0, column = 1, pady = 2, padx = 2)\n",
    "        self.btn_recognise.grid(row = 1, column = 1, pady = 2, padx = 2)\n",
    "        self.btn_clear.grid(row = 1, column = 0, pady = 2)\n",
    "\n",
    "    def recognize(self):\n",
    "        x = self.winfo_rootx() + self.canvas.winfo_x()\n",
    "        y = self.winfo_rooty() + self.canvas.winfo_y() + 50\n",
    "        x1 = x + self.canvas.winfo_width() \n",
    "        y1 = y + self.canvas.winfo_height() - 50\n",
    "        img = ImageGrab.grab().crop((x, y, x1, y1))\n",
    "    \n",
    "        prediction = predict_number(img)\n",
    "        try:\n",
    "            self.label.configure(text=str(int(prediction)))\n",
    "        except ValueError:\n",
    "            self.label.configure(text=\"Can't resolve\")\n",
    "        \n",
    "    def on_click_draw(self, event):\n",
    "        r = 6\n",
    "        self.x = event.x\n",
    "        self.y = event.y\n",
    "        self.canvas.create_oval(self.x - r, self.y - r, self.x + r, self.y + r, outline='red', fill='red')\n",
    "            \n",
    "def predict_number(image):\n",
    "    enhancer = ImageEnhance.Contrast(image)\n",
    "    img = enhancer.enhance(4)\n",
    "    fn = lambda x: 255 if x > 200 else 0\n",
    "    res = img.convert('L').point(fn, mode='1')\n",
    "    text = pytesseract.image_to_string(res, lang='eng', config='--psm 10 --oem 3 -c tessedit_char_whitelist=0123456789')\n",
    "    return text\n",
    "\n",
    "\n",
    "app = App()\n",
    "mainloop()"
   ]
  },
  {
   "cell_type": "code",
   "execution_count": 1,
   "metadata": {},
   "outputs": [
    {
     "name": "stdout",
     "output_type": "stream",
     "text": [
      "Requirement already satisfied: pytesseract in c:\\users\\ilzira\\anaconda3\\lib\\site-packages (0.3.10)\n",
      "Requirement already satisfied: Pillow>=8.0.0 in c:\\users\\ilzira\\anaconda3\\lib\\site-packages (from pytesseract) (8.0.1)\n",
      "Requirement already satisfied: packaging>=21.3 in c:\\users\\ilzira\\anaconda3\\lib\\site-packages (from pytesseract) (22.0)\n"
     ]
    },
    {
     "name": "stderr",
     "output_type": "stream",
     "text": [
      "WARNING: There was an error checking the latest version of pip.\n"
     ]
    }
   ],
   "source": [
    "!pip install pytesseract"
   ]
  },
  {
   "cell_type": "code",
   "execution_count": null,
   "metadata": {},
   "outputs": [],
   "source": []
  }
 ],
 "metadata": {
  "kernelspec": {
   "display_name": "Python 3",
   "language": "python",
   "name": "python3"
  },
  "language_info": {
   "codemirror_mode": {
    "name": "ipython",
    "version": 3
   },
   "file_extension": ".py",
   "mimetype": "text/x-python",
   "name": "python",
   "nbconvert_exporter": "python",
   "pygments_lexer": "ipython3",
   "version": "3.8.5"
  }
 },
 "nbformat": 4,
 "nbformat_minor": 4
}
