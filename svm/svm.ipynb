{
 "cells": [
  {
   "cell_type": "code",
   "execution_count": 1,
   "metadata": {},
   "outputs": [
    {
     "name": "stdout",
     "output_type": "stream",
     "text": [
      "pygame 2.1.2 (SDL 2.0.18, Python 3.8.5)\n",
      "Hello from the pygame community. https://www.pygame.org/contribute.html\n"
     ]
    },
    {
     "ename": "error",
     "evalue": "video system not initialized",
     "output_type": "error",
     "traceback": [
      "\u001b[1;31m---------------------------------------------------------------------------\u001b[0m",
      "\u001b[1;31merror\u001b[0m                                     Traceback (most recent call last)",
      "\u001b[1;32m<ipython-input-1-5fad16f801e5>\u001b[0m in \u001b[0;36m<module>\u001b[1;34m\u001b[0m\n\u001b[0;32m     78\u001b[0m     \u001b[0mpoints\u001b[0m \u001b[1;33m=\u001b[0m \u001b[1;33m[\u001b[0m\u001b[1;33m]\u001b[0m\u001b[1;33m\u001b[0m\u001b[1;33m\u001b[0m\u001b[0m\n\u001b[0;32m     79\u001b[0m     \u001b[0mcolors\u001b[0m \u001b[1;33m=\u001b[0m \u001b[1;33m{\u001b[0m\u001b[1;36m0\u001b[0m\u001b[1;33m:\u001b[0m \u001b[0mGREEN\u001b[0m\u001b[1;33m,\u001b[0m \u001b[1;36m1\u001b[0m\u001b[1;33m:\u001b[0m \u001b[0mRED\u001b[0m\u001b[1;33m}\u001b[0m\u001b[1;33m\u001b[0m\u001b[1;33m\u001b[0m\u001b[0m\n\u001b[1;32m---> 80\u001b[1;33m     \u001b[0mdraw_pygame\u001b[0m\u001b[1;33m(\u001b[0m\u001b[1;33m)\u001b[0m\u001b[1;33m\u001b[0m\u001b[1;33m\u001b[0m\u001b[0m\n\u001b[0m",
      "\u001b[1;32m<ipython-input-1-5fad16f801e5>\u001b[0m in \u001b[0;36mdraw_pygame\u001b[1;34m()\u001b[0m\n\u001b[0;32m     67\u001b[0m                 \u001b[0mpygame\u001b[0m\u001b[1;33m.\u001b[0m\u001b[0mdraw\u001b[0m\u001b[1;33m.\u001b[0m\u001b[0mcircle\u001b[0m\u001b[1;33m(\u001b[0m\u001b[0mscreen\u001b[0m\u001b[1;33m,\u001b[0m \u001b[0mcolors\u001b[0m\u001b[1;33m[\u001b[0m\u001b[0mpoint\u001b[0m\u001b[1;33m[\u001b[0m\u001b[1;36m1\u001b[0m\u001b[1;33m]\u001b[0m\u001b[1;33m]\u001b[0m\u001b[1;33m,\u001b[0m \u001b[0mpoint\u001b[0m\u001b[1;33m[\u001b[0m\u001b[1;36m0\u001b[0m\u001b[1;33m]\u001b[0m\u001b[1;33m,\u001b[0m \u001b[0mradius\u001b[0m\u001b[1;33m)\u001b[0m\u001b[1;33m\u001b[0m\u001b[1;33m\u001b[0m\u001b[0m\n\u001b[0;32m     68\u001b[0m \u001b[1;33m\u001b[0m\u001b[0m\n\u001b[1;32m---> 69\u001b[1;33m         \u001b[0mpygame\u001b[0m\u001b[1;33m.\u001b[0m\u001b[0mdisplay\u001b[0m\u001b[1;33m.\u001b[0m\u001b[0mupdate\u001b[0m\u001b[1;33m(\u001b[0m\u001b[1;33m)\u001b[0m\u001b[1;33m\u001b[0m\u001b[1;33m\u001b[0m\u001b[0m\n\u001b[0m\u001b[0;32m     70\u001b[0m \u001b[1;33m\u001b[0m\u001b[0m\n\u001b[0;32m     71\u001b[0m \u001b[1;33m\u001b[0m\u001b[0m\n",
      "\u001b[1;31merror\u001b[0m: video system not initialized"
     ]
    }
   ],
   "source": [
    "import numpy as np\n",
    "import pygame\n",
    "from sklearn.svm import SVC\n",
    "\n",
    "# Создание гиперплоскости - граница принятия решения, определяющая, как классифицируются новые наблюдения.\n",
    "def get_line_points(svc):\n",
    "    w = svc.coef_[0] # вектор нормали к разделяющей гиперплоскости.\n",
    "    a = -w[0] / w[1] \n",
    "    xx = np.array([0, width])\n",
    "    yy = a * xx - (svc.intercept_[0]) / w[1]\n",
    "    return np.array(list(zip(xx, yy)))\n",
    "\n",
    "\n",
    "def draw_circle(points, event, current_class, screen):\n",
    "    color = GREEN\n",
    "    if current_class == 1:\n",
    "        color = RED\n",
    "    pygame.draw.circle(screen, color, event.pos, radius)\n",
    "    points.append([[event.pos[0], event.pos[1]], current_class, None])\n",
    "\n",
    "\n",
    "def draw_pygame():\n",
    "    line_printed = False\n",
    "    coordinates = []\n",
    "    screen = pygame.display.set_mode((width, height))\n",
    "    screen.fill(WHITE)\n",
    "    play = True\n",
    "    while play:\n",
    "        for event in pygame.event.get():\n",
    "            if event.type == pygame.QUIT:\n",
    "                pygame.quit()\n",
    "                exit()\n",
    "                play = False\n",
    "            if event.type == pygame.MOUSEBUTTONDOWN:\n",
    "                if event.button == 1 and line_printed is False:\n",
    "                    draw_circle(coordinates, event, 0, screen)\n",
    "                if event.button == 3 and line_printed is False:\n",
    "                    draw_circle(coordinates, event, 1, screen)\n",
    "                if line_printed is True:\n",
    "                    pos = list(event.pos)\n",
    "                    cls = svc.predict([pos])[0]\n",
    "                    points.append([pos, cls, None])\n",
    "            if event.type == pygame.KEYDOWN and event.key == pygame.K_SPACE and line_printed is False:\n",
    "                line_printed = True\n",
    "                x_coords = np.array(list(map(lambda p: p[0], coordinates)))\n",
    "                y_coords = np.array(list(map(lambda p: p[1], coordinates)))\n",
    "                svc = SVC(kernel='linear')\n",
    "                svc.fit(x_coords, y_coords)\n",
    "                line_points = get_line_points(svc)\n",
    "                p1, p2 = line_points[0], line_points[-1]\n",
    "                pygame.draw.line(screen, 'black', p1, p2, 2)\n",
    "        count_sim = 0\n",
    "        count_diff = 0\n",
    "        for point in points:\n",
    "            is_above = lambda point, p1, p2: np.cross(point - p1, p2 - p1) < 0\n",
    "            if is_above(point[0], p1, p2):\n",
    "                point[2] = 0\n",
    "            else:\n",
    "                point[2] = 1\n",
    "            if point[1] == point[2]:\n",
    "                count_sim = count_sim + 1\n",
    "            else:\n",
    "                count_diff = count_diff + 1\n",
    "            if count_sim > count_diff:\n",
    "                pygame.draw.circle(screen, colors[point[2]], point[0], radius)\n",
    "            else:\n",
    "                pygame.draw.circle(screen, colors[point[1]], point[0], radius)\n",
    "\n",
    "        pygame.display.update()\n",
    "\n",
    "\n",
    "if __name__ == '__main__':\n",
    "    width, height = 600, 400\n",
    "    RED = (255, 0, 0)\n",
    "    GREEN = (0, 255, 0)\n",
    "    WHITE = (255, 255, 255)\n",
    "    radius = 5\n",
    "    points = []\n",
    "    colors = {0: GREEN, 1: RED}\n",
    "    draw_pygame()"
   ]
  },
  {
   "cell_type": "code",
   "execution_count": null,
   "metadata": {},
   "outputs": [],
   "source": []
  }
 ],
 "metadata": {
  "kernelspec": {
   "display_name": "Python 3",
   "language": "python",
   "name": "python3"
  },
  "language_info": {
   "codemirror_mode": {
    "name": "ipython",
    "version": 3
   },
   "file_extension": ".py",
   "mimetype": "text/x-python",
   "name": "python",
   "nbconvert_exporter": "python",
   "pygments_lexer": "ipython3",
   "version": "3.8.5"
  }
 },
 "nbformat": 4,
 "nbformat_minor": 4
}
